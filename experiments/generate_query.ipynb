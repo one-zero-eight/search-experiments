{
 "cells": [
  {
   "cell_type": "code",
   "execution_count": 3,
   "id": "b7f57669482ca873",
   "metadata": {
    "ExecuteTime": {
     "end_time": "2024-06-26T08:33:37.844804Z",
     "start_time": "2024-06-26T08:33:37.840768Z"
    }
   },
   "outputs": [],
   "source": [
    "from pydantic import BaseModel\n",
    "\n",
    "\n",
    "class Query(BaseModel):\n",
    "    text: str\n",
    "    relevant: bool | None = None"
   ]
  },
  {
   "cell_type": "code",
   "execution_count": 28,
   "id": "948522d9d3f6f655",
   "metadata": {
    "ExecuteTime": {
     "end_time": "2024-06-26T08:51:57.090824Z",
     "start_time": "2024-06-26T08:51:56.175152Z"
    }
   },
   "outputs": [
    {
     "data": {
      "application/vnd.jupyter.widget-view+json": {
       "model_id": "843a15458de047d3a7a1eaded83de597",
       "version_major": 2,
       "version_minor": 0
      },
      "text/plain": [
       "Text(value='', continuous_update=False, description='Query:', layout=Layout(height='40px', width='600px'))"
      ]
     },
     "metadata": {},
     "output_type": "display_data"
    },
    {
     "data": {
      "application/vnd.jupyter.widget-view+json": {
       "model_id": "c1ab6d8003724bf8ae2f10983af34c35",
       "version_major": 2,
       "version_minor": 0
      },
      "text/plain": [
       "HBox(children=(Button(description='Add', layout=Layout(width='300px'), style=ButtonStyle()), Button(descriptio…"
      ]
     },
     "metadata": {},
     "output_type": "display_data"
    },
    {
     "data": {
      "application/vnd.jupyter.widget-view+json": {
       "model_id": "748f180cbfd44adfa5b18f6888543bbc",
       "version_major": 2,
       "version_minor": 0
      },
      "text/plain": [
       "Output()"
      ]
     },
     "metadata": {},
     "output_type": "display_data"
    }
   ],
   "source": [
    "import ipywidgets as widgets\n",
    "from IPython.display import display\n",
    "\n",
    "# Text boxes for key and value input\n",
    "query = widgets.Text(description=\"Query:\", layout=widgets.Layout(width=\"600px\", height=\"40px\", font_size=\"20px\"))\n",
    "\n",
    "# Button to add key-value pair\n",
    "add_button = widgets.Button(description=\"Add\", layout=widgets.Layout(width=\"300px\"))\n",
    "\n",
    "# Button to close the input\n",
    "save_button = widgets.Button(description=\"Save\", layout=widgets.Layout(width=\"300px\"))\n",
    "\n",
    "buttons = widgets.HBox([add_button, save_button])\n",
    "\n",
    "# Output area to display messages\n",
    "output_area = widgets.Output()\n",
    "\n",
    "filename = input(\"Enter the filename to save queries to (empty for 'queries.jsonl'): \") or \"queries.jsonl\"\n",
    "\n",
    "with output_area:\n",
    "    print(f\"Queries will be saved to '{filename}'\")\n",
    "\n",
    "\n",
    "def save_queries(filename: str, queries: list[Query]):\n",
    "    with open(filename, \"w\") as file:\n",
    "        for query in queries:\n",
    "            file.write(query.model_dump_json() + \"\\n\")\n",
    "\n",
    "\n",
    "queries = []\n",
    "query_index = 0\n",
    "\n",
    "\n",
    "def add_query(b):\n",
    "    if query.value and filename:\n",
    "        global query_index\n",
    "        queries.append(Query(text=query.value))\n",
    "        with output_area:\n",
    "            print(f\"Added [{query_index}]: {query.value}\")\n",
    "        query.value = \"\"\n",
    "        query_index += 1\n",
    "\n",
    "\n",
    "def save(b):\n",
    "    query.unobserve(add_query, names=\"value\")\n",
    "    query.disabled = True\n",
    "    add_button.disabled = True\n",
    "    save_button.disabled = True\n",
    "    save_queries(filename, queries)\n",
    "    with output_area:\n",
    "        print(\"Queries saved to file.\")\n",
    "\n",
    "\n",
    "add_button.on_click(add_query)\n",
    "query.continuous_update = False\n",
    "query.observe(add_query, names=\"value\")\n",
    "save_button.on_click(save)\n",
    "\n",
    "display(query, buttons, output_area)"
   ]
  },
  {
   "cell_type": "code",
   "execution_count": 38,
   "id": "d87c885f1273a58c",
   "metadata": {
    "ExecuteTime": {
     "end_time": "2024-06-26T09:01:08.183400Z",
     "start_time": "2024-06-26T09:01:05.976676Z"
    }
   },
   "outputs": [
    {
     "data": {
      "application/vnd.jupyter.widget-view+json": {
       "model_id": "54765177b2bd455ab176256731387cfe",
       "version_major": 2,
       "version_minor": 0
      },
      "text/plain": [
       "Text(value='', description='Query:', disabled=True, layout=Layout(height='40px', width='600px'))"
      ]
     },
     "metadata": {},
     "output_type": "display_data"
    },
    {
     "data": {
      "application/vnd.jupyter.widget-view+json": {
       "model_id": "846e69b0926b4bc09a977ea9854dfdd9",
       "version_major": 2,
       "version_minor": 0
      },
      "text/plain": [
       "HBox(children=(Button(description='Not Relevant', layout=Layout(width='300px'), style=ButtonStyle()), Button(d…"
      ]
     },
     "metadata": {},
     "output_type": "display_data"
    },
    {
     "data": {
      "application/vnd.jupyter.widget-view+json": {
       "model_id": "e6081d1eec1243549c48081f57da1e68",
       "version_major": 2,
       "version_minor": 0
      },
      "text/plain": [
       "Output()"
      ]
     },
     "metadata": {},
     "output_type": "display_data"
    }
   ],
   "source": [
    "import ipywidgets as widgets\n",
    "from IPython.display import display\n",
    "from typing import List\n",
    "\n",
    "\n",
    "# Load queries from .jsonl file\n",
    "def load_queries(filename: str) -> List[Query]:\n",
    "    queries = []\n",
    "    with open(filename, \"r\") as file:\n",
    "        for line in file:\n",
    "            queries.append(Query.model_validate_json(line))\n",
    "    return queries\n",
    "\n",
    "\n",
    "# User interaction widgets\n",
    "query_display = widgets.Text(\n",
    "    description=\"Query:\", disabled=True, layout=widgets.Layout(width=\"600px\", height=\"40px\", font_size=\"20px\")\n",
    ")\n",
    "\n",
    "left_button = widgets.Button(description=\"Not Relevant\", layout=widgets.Layout(width=\"300px\"))\n",
    "right_button = widgets.Button(description=\"Relevant\", layout=widgets.Layout(width=\"300px\"))\n",
    "buttons = widgets.HBox([left_button, right_button])\n",
    "\n",
    "output_area = widgets.Output()\n",
    "\n",
    "filename = input(\"Enter the filename to load queries from (empty for 'queries.jsonl'): \") or \"queries.jsonl\"\n",
    "output_filename = (\n",
    "    input(\"Enter the filename to save updated queries to (empty for 'updated_queries.jsonl'): \")\n",
    "    or \"updated_queries.jsonl\"\n",
    ")\n",
    "\n",
    "with output_area:\n",
    "    print(f\"Queries will be loaded from '{filename}' and saved to '{output_filename}'\")\n",
    "\n",
    "# Global variables to keep track of state\n",
    "queries = []\n",
    "current_index = 0\n",
    "\n",
    "\n",
    "def load_and_display_queries(b):\n",
    "    global queries, current_index\n",
    "    queries = load_queries(filename)\n",
    "    current_index = 0\n",
    "    if queries:\n",
    "        query_display.value = queries[current_index].text\n",
    "        with output_area:\n",
    "            print(f\"Loaded {len(queries)} queries from {filename}\")\n",
    "\n",
    "\n",
    "def mark_relevant(b):\n",
    "    global current_index\n",
    "    if queries and current_index < len(queries):\n",
    "        queries[current_index].relevant = True\n",
    "        next_query()\n",
    "\n",
    "\n",
    "def mark_not_relevant(b):\n",
    "    global current_index\n",
    "    if queries and current_index < len(queries):\n",
    "        queries[current_index].relevant = False\n",
    "        next_query()\n",
    "\n",
    "\n",
    "def next_query():\n",
    "    global current_index\n",
    "    current_index += 1\n",
    "    if current_index < len(queries):\n",
    "        query_display.value = queries[current_index].text\n",
    "    else:\n",
    "        query_display.value = \"All queries reviewed.\"\n",
    "        save_queries(output_filename, queries)\n",
    "        query_display.unobserve(add_query, names=\"value\")\n",
    "        left_button.disabled = True\n",
    "        right_button.disabled = True\n",
    "\n",
    "\n",
    "# Button actions\n",
    "left_button.on_click(mark_not_relevant)\n",
    "right_button.on_click(mark_relevant)\n",
    "\n",
    "# Display the widgets\n",
    "display(query_display, buttons, output_area)\n",
    "\n",
    "# Load queries initially\n",
    "load_and_display_queries(None)"
   ]
  },
  {
   "cell_type": "code",
   "execution_count": null,
   "id": "9524d5e535c18aa3",
   "metadata": {},
   "outputs": [],
   "source": []
  }
 ],
 "metadata": {
  "kernelspec": {
   "display_name": "Python 3",
   "language": "python",
   "name": "python3"
  },
  "language_info": {
   "codemirror_mode": {
    "name": "ipython",
    "version": 2
   },
   "file_extension": ".py",
   "mimetype": "text/x-python",
   "name": "python",
   "nbconvert_exporter": "python",
   "pygments_lexer": "ipython2",
   "version": "2.7.6"
  }
 },
 "nbformat": 4,
 "nbformat_minor": 5
}
