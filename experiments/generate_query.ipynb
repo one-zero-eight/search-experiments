{
 "cells": [
  {
   "cell_type": "code",
   "execution_count": 1,
   "id": "b7f57669482ca873",
   "metadata": {
    "ExecuteTime": {
     "end_time": "2024-06-26T08:33:37.844804Z",
     "start_time": "2024-06-26T08:33:37.840768Z"
    }
   },
   "outputs": [],
   "source": [
    "from pydantic import BaseModel\n",
    "\n",
    "\n",
    "class Query(BaseModel):\n",
    "    text: str\n",
    "    relevant: bool | None = None"
   ]
  },
  {
   "cell_type": "code",
   "execution_count": 4,
   "id": "948522d9d3f6f655",
   "metadata": {
    "ExecuteTime": {
     "end_time": "2024-06-26T08:51:57.090824Z",
     "start_time": "2024-06-26T08:51:56.175152Z"
    }
   },
   "outputs": [
    {
     "data": {
      "application/vnd.jupyter.widget-view+json": {
       "model_id": "ab611bf0842e477ca8779f9a03eba45c",
       "version_major": 2,
       "version_minor": 0
      },
      "text/plain": [
       "Text(value='', continuous_update=False, description='Query:', layout=Layout(height='40px', width='600px'))"
      ]
     },
     "metadata": {},
     "output_type": "display_data"
    },
    {
     "data": {
      "application/vnd.jupyter.widget-view+json": {
       "model_id": "275af29a6016417f95f4caa97d974943",
       "version_major": 2,
       "version_minor": 0
      },
      "text/plain": [
       "HBox(children=(Button(description='Add', layout=Layout(width='300px'), style=ButtonStyle()), Button(descriptio…"
      ]
     },
     "metadata": {},
     "output_type": "display_data"
    },
    {
     "data": {
      "application/vnd.jupyter.widget-view+json": {
       "model_id": "35f9a7ec011b4ee191f334c73421d5d5",
       "version_major": 2,
       "version_minor": 0
      },
      "text/plain": [
       "Output()"
      ]
     },
     "metadata": {},
     "output_type": "display_data"
    }
   ],
   "source": [
    "import ipywidgets as widgets\n",
    "from IPython.display import display\n",
    "\n",
    "# Text boxes for key and value input\n",
    "query = widgets.Text(description=\"Query:\", layout=widgets.Layout(width=\"600px\", height=\"40px\", font_size=\"20px\"))\n",
    "\n",
    "# Button to add key-value pair\n",
    "add_button = widgets.Button(description=\"Add\", layout=widgets.Layout(width=\"300px\"))\n",
    "\n",
    "# Button to close the input\n",
    "save_button = widgets.Button(description=\"Save\", layout=widgets.Layout(width=\"300px\"))\n",
    "\n",
    "buttons = widgets.HBox([add_button, save_button])\n",
    "\n",
    "# Output area to display messages\n",
    "output_area = widgets.Output()\n",
    "\n",
    "filename = input(\"Enter the filename to save queries to (empty for 'queries.jsonl'): \") or \"queries.jsonl\"\n",
    "\n",
    "with output_area:\n",
    "    print(f\"Queries will be saved to '{filename}'\")\n",
    "\n",
    "\n",
    "def save_queries(filename: str, queries: list[Query]):\n",
    "    with open(filename, \"a\") as file:\n",
    "        for query in queries:\n",
    "            file.write(query.model_dump_json() + \"\\n\")\n",
    "\n",
    "\n",
    "queries = []\n",
    "query_index = 0\n",
    "\n",
    "\n",
    "def add_query(b):\n",
    "    if query.value and filename:\n",
    "        global query_index\n",
    "        queries.append(Query(text=query.value))\n",
    "        with output_area:\n",
    "            print(f\"Added [{query_index}]: {query.value}\")\n",
    "        query.value = \"\"\n",
    "        query_index += 1\n",
    "\n",
    "\n",
    "def save(b):\n",
    "    query.unobserve(add_query, names=\"value\")\n",
    "    query.disabled = True\n",
    "    add_button.disabled = True\n",
    "    save_button.disabled = True\n",
    "    save_queries(filename, queries)\n",
    "    with output_area:\n",
    "        print(\"Queries saved to file.\")\n",
    "\n",
    "\n",
    "add_button.on_click(add_query)\n",
    "query.continuous_update = False\n",
    "query.observe(add_query, names=\"value\")\n",
    "save_button.on_click(save)\n",
    "\n",
    "display(query, buttons, output_area)"
   ]
  },
  {
   "cell_type": "code",
   "execution_count": 5,
   "id": "d87c885f1273a58c",
   "metadata": {
    "ExecuteTime": {
     "end_time": "2024-06-26T09:01:08.183400Z",
     "start_time": "2024-06-26T09:01:05.976676Z"
    }
   },
   "outputs": [
    {
     "data": {
      "application/vnd.jupyter.widget-view+json": {
       "model_id": "445e52b6061d4239afd9ee7340ef3bf6",
       "version_major": 2,
       "version_minor": 0
      },
      "text/plain": [
       "Text(value='', description='Query:', disabled=True, layout=Layout(height='40px', width='600px'))"
      ]
     },
     "metadata": {},
     "output_type": "display_data"
    },
    {
     "data": {
      "application/vnd.jupyter.widget-view+json": {
       "model_id": "97cada8e788b47b28b7e136f2ee32e41",
       "version_major": 2,
       "version_minor": 0
      },
      "text/plain": [
       "HBox(children=(Button(description='Not Relevant', layout=Layout(width='300px'), style=ButtonStyle()), Button(d…"
      ]
     },
     "metadata": {},
     "output_type": "display_data"
    },
    {
     "data": {
      "application/vnd.jupyter.widget-view+json": {
       "model_id": "605a8c793ead4076b05478280505daa8",
       "version_major": 2,
       "version_minor": 0
      },
      "text/plain": [
       "Output()"
      ]
     },
     "metadata": {},
     "output_type": "display_data"
    }
   ],
   "source": [
    "import ipywidgets as widgets\n",
    "from IPython.display import display\n",
    "from typing import List\n",
    "\n",
    "\n",
    "# Load queries from .jsonl file\n",
    "def load_queries(filename: str) -> List[Query]:\n",
    "    queries = []\n",
    "    with open(filename, \"r\") as file:\n",
    "        for line in file:\n",
    "            queries.append(Query.model_validate_json(line))\n",
    "    return queries\n",
    "\n",
    "\n",
    "# User interaction widgets\n",
    "query_display = widgets.Text(\n",
    "    description=\"Query:\", disabled=True, layout=widgets.Layout(width=\"600px\", height=\"40px\", font_size=\"20px\")\n",
    ")\n",
    "\n",
    "left_button = widgets.Button(description=\"Not Relevant\", layout=widgets.Layout(width=\"300px\"))\n",
    "right_button = widgets.Button(description=\"Relevant\", layout=widgets.Layout(width=\"300px\"))\n",
    "buttons = widgets.HBox([left_button, right_button])\n",
    "\n",
    "output_area = widgets.Output()\n",
    "\n",
    "filename = input(\"Enter the filename to load queries from (empty for 'queries.jsonl'): \") or \"queries.jsonl\"\n",
    "output_filename = (\n",
    "    input(\"Enter the filename to save updated queries to (empty for 'updated_queries.jsonl'): \")\n",
    "    or \"updated_queries.jsonl\"\n",
    ")\n",
    "\n",
    "with output_area:\n",
    "    print(f\"Queries will be loaded from '{filename}' and saved to '{output_filename}'\")\n",
    "\n",
    "# Global variables to keep track of state\n",
    "queries = []\n",
    "current_index = 0\n",
    "\n",
    "\n",
    "def load_and_display_queries(b):\n",
    "    global queries, current_index\n",
    "    queries = load_queries(filename)\n",
    "    current_index = 0\n",
    "    if queries:\n",
    "        query_display.value = queries[current_index].text\n",
    "        with output_area:\n",
    "            print(f\"Loaded {len(queries)} queries from {filename}\")\n",
    "\n",
    "\n",
    "def mark_relevant(b):\n",
    "    global current_index\n",
    "    if queries and current_index < len(queries):\n",
    "        queries[current_index].relevant = True\n",
    "        next_query()\n",
    "\n",
    "\n",
    "def mark_not_relevant(b):\n",
    "    global current_index\n",
    "    if queries and current_index < len(queries):\n",
    "        queries[current_index].relevant = False\n",
    "        next_query()\n",
    "\n",
    "\n",
    "def next_query():\n",
    "    global current_index\n",
    "    current_index += 1\n",
    "    if current_index < len(queries):\n",
    "        query_display.value = queries[current_index].text\n",
    "    else:\n",
    "        query_display.value = \"All queries reviewed.\"\n",
    "        save_queries(output_filename, queries)\n",
    "        query_display.unobserve(add_query, names=\"value\")\n",
    "        left_button.disabled = True\n",
    "        right_button.disabled = True\n",
    "\n",
    "\n",
    "# Button actions\n",
    "left_button.on_click(mark_not_relevant)\n",
    "right_button.on_click(mark_relevant)\n",
    "\n",
    "# Display the widgets\n",
    "display(query_display, buttons, output_area)\n",
    "\n",
    "# Load queries initially\n",
    "load_and_display_queries(None)"
   ]
  },
  {
   "cell_type": "code",
   "execution_count": 7,
   "id": "9524d5e535c18aa3",
   "metadata": {},
   "outputs": [
    {
     "name": "stdout",
     "output_type": "stream",
     "text": [
      "mathan assignments\n",
      "saved\n",
      "mathan assignments with answers\n",
      "saved\n",
      "mathan midterm prep\n",
      "saved\n",
      "agal syllabus\n",
      "saved\n",
      "agla basis vector\n",
      "saved\n",
      "agla inverse matrix\n",
      "saved\n",
      "philosophy week 5 answers\n",
      "saved\n",
      "discrete math week 12\n",
      "saved\n",
      "philosophy final exam\n",
      "saved\n",
      "english compound sentence\n",
      "saved\n",
      "descriptive paragraph\n",
      "saved\n",
      "memory bus\n",
      "saved\n",
      "latency\n",
      "saved\n",
      "limits example\n",
      "saved\n",
      "cross product where used\n",
      "saved\n",
      "cramer rule\n",
      "saved\n",
      "logic gates\n",
      "saved\n",
      "Big O\n",
      "saved\n",
      "read write files example\n",
      "saved\n",
      "struct\n",
      "saved\n",
      "pointers\n",
      "saved\n",
      "preparation final\n",
      "saved\n",
      "agla test 1 demo\n",
      "saved\n",
      "English plagiarism\n",
      "saved\n",
      "set theory naive\n",
      "saved\n",
      "bit  fields\n",
      "saved\n",
      "exercises java\n",
      "saved\n",
      "riscv\n",
      "saved\n",
      "abstract methods itp\n",
      "saved\n",
      "what is pipelining\n",
      "saved\n",
      "java final methods\n",
      "saved\n",
      "agla 11 lab task 2 answer\n",
      "saved\n",
      "English response paragraph\n",
      "saved\n",
      "polar system of coordinates\n",
      "saved\n",
      "generics\n",
      "saved\n",
      "integral definition\n",
      "saved\n",
      "lambda programming code\n",
      "saved\n",
      "quadric math formulaes\n",
      "saved\n",
      "yaylor series decomposition\n",
      "saved\n",
      "complete fsa definition\n",
      "saved\n",
      "ndfsa conversion to dfsa\n",
      "saved\n",
      "dsa grading\n",
      "saved\n",
      "problem set 1 dsa answers\n",
      "saved\n",
      "find inverse of matrix\n",
      "saved\n",
      "matrix factorization\n",
      "saved\n",
      "agla midterm preparation\n",
      "saved\n",
      "positive definite matrices\n",
      "saved\n",
      "how to determine if point is minimum\n",
      "saved\n",
      "polymorphysm explained\n",
      "saved\n",
      "verilog syntax\n",
      "saved\n",
      "the most boring \n",
      "i better go outside after this\n",
      "is mathematical analysis used much in ml?\n",
      "i recap all courses while doing this\n",
      "another not related query\n",
      "machine learning oh 3rd course is perfect\n",
      "will algorithm detect that this query is bad? agla test machine learning databases\n",
      "tell me a joke\n",
      "Will we block somehow generic knowledge of rag?\n",
      "what is your model?\n"
     ]
    }
   ],
   "source": [
    "import json\n",
    "# Add manually relevant modules to .jsonl\n",
    "\n",
    "# read from previously initialized output_file\n",
    "input_filename = \"updated_queries.jsonl\"\n",
    "output_filename = \"queries_with_modules.jsonl\"\n",
    "\n",
    "with open(input_filename, \"r\") as file:\n",
    "    queries = file.readlines()\n",
    "\n",
    "queries_with_modules = []\n",
    "for query in queries:\n",
    "    query_parsed = json.loads(query)\n",
    "    print(query_parsed[\"text\"])\n",
    "    # if query hasnt got related modules\n",
    "    if query_parsed[\"relevant\"] and \"modules\" not in query_parsed:\n",
    "        modules = []\n",
    "        for _ in range(3):\n",
    "            module = \"module-\" + input() + \".pdf\"\n",
    "            modules.append(module)\n",
    "        query_parsed[\"modules\"] = modules\n",
    "        print(\"saved\")\n",
    "    elif not query_parsed[\"relevant\"]:\n",
    "        query_parsed[\"modules\"] = None\n",
    "\n",
    "    queries_with_modules.append(json.dumps(query_parsed))\n",
    "\n",
    "# write updated back to file\n",
    "with open(output_filename, \"w\") as file:\n",
    "    for updated_line in queries_with_modules:\n",
    "        file.write(updated_line + \"\\n\")"
   ]
  },
  {
   "cell_type": "code",
   "execution_count": 16,
   "id": "405c5219",
   "metadata": {},
   "outputs": [],
   "source": [
    "# delete 'module-.py' elements from list\n",
    "\n",
    "\n",
    "def process_line(line):\n",
    "    data = json.loads(line)\n",
    "    if \"modules\" in data and isinstance(data[\"modules\"], list):\n",
    "        data[\"modules\"] = [module for module in data[\"modules\"] if module and module != \"module-.pdf\"]\n",
    "    return json.dumps(data)\n",
    "\n",
    "\n",
    "with open(output_filename, \"r\") as infile:\n",
    "    lines = infile.readlines()\n",
    "\n",
    "processed_lines = [process_line(line) for line in lines]\n",
    "\n",
    "with open(output_filename, \"w\") as outfile:\n",
    "    for line in processed_lines:\n",
    "        outfile.write(line + \"\\n\")"
   ]
  }
 ],
 "metadata": {
  "kernelspec": {
   "display_name": "Python 3",
   "language": "python",
   "name": "python3"
  },
  "language_info": {
   "codemirror_mode": {
    "name": "ipython",
    "version": 3
   },
   "file_extension": ".py",
   "mimetype": "text/x-python",
   "name": "python",
   "nbconvert_exporter": "python",
   "pygments_lexer": "ipython3",
   "version": "3.11.2"
  }
 },
 "nbformat": 4,
 "nbformat_minor": 5
}
