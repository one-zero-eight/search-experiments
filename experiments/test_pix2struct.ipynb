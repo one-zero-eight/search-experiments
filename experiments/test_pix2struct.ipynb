{
 "cells": [
  {
   "metadata": {},
   "cell_type": "markdown",
   "source": "<h3 color=\"red\">Conclusion: pix2struct not suitable for OCR</h3>",
   "id": "677974f08bff0e9b"
  },
  {
   "metadata": {},
   "cell_type": "code",
   "outputs": [
    {
     "name": "stdout",
     "output_type": "stream",
     "text": [
      "821\n"
     ]
    }
   ],
   "execution_count": 5,
   "source": [
    "from pathlib import Path\n",
    "\n",
    "from dataset.datasets_schema import Datasets\n",
    "\n",
    "datasets_path = Path(\"../dataset/datasets.yaml\")\n",
    "datasets: Datasets = Datasets.from_yaml(datasets_path)\n",
    "moodle_dataset = datasets[\"moodle\"]\n",
    "entries = moodle_dataset.document_storage.entries\n",
    "print(len(entries))"
   ],
   "id": "initial_id"
  },
  {
   "metadata": {
    "ExecuteTime": {
     "end_time": "2024-06-29T09:45:15.231504Z",
     "start_time": "2024-06-29T09:45:15.227028Z"
    }
   },
   "cell_type": "code",
   "source": "pdf = next(entry for entry in entries.values() if entry.path and entry.path.exists() and entry.path.suffix == \".pdf\")",
   "id": "f6433b88afab6c64",
   "outputs": [],
   "execution_count": 6
  },
  {
   "metadata": {
    "ExecuteTime": {
     "end_time": "2024-06-29T09:49:24.347708Z",
     "start_time": "2024-06-29T09:49:24.285613Z"
    }
   },
   "cell_type": "code",
   "source": [
    "from PIL import Image\n",
    "import pymupdf\n",
    "\n",
    "doc = pymupdf.open(pdf.path)\n",
    "images = []\n",
    "\n",
    "for page in doc:\n",
    "    page: pymupdf.Page\n",
    "    pix = pymupdf.utils.get_pixmap(page)\n",
    "    pil = Image.frombytes(\"RGB\", (pix.width, pix.height), pix.samples)\n",
    "    images.append(pil)"
   ],
   "id": "39e18f4b078dfe40",
   "outputs": [],
   "execution_count": 14
  },
  {
   "metadata": {
    "ExecuteTime": {
     "end_time": "2024-06-29T10:03:27.311617Z",
     "start_time": "2024-06-29T10:03:25.146598Z"
    }
   },
   "cell_type": "code",
   "source": [
    "from transformers import Pix2StructForConditionalGeneration, Pix2StructProcessor\n",
    "\n",
    "model = Pix2StructForConditionalGeneration.from_pretrained(\"google/pix2struct-screen2words-base\")\n",
    "processor = Pix2StructProcessor.from_pretrained(\"google/pix2struct-screen2words-base\")"
   ],
   "id": "7a71d205777aedb7",
   "outputs": [],
   "execution_count": 54
  },
  {
   "metadata": {
    "ExecuteTime": {
     "end_time": "2024-06-29T10:03:41.433852Z",
     "start_time": "2024-06-29T10:03:41.202822Z"
    }
   },
   "cell_type": "code",
   "source": "inputs = processor(images=images[0], text=\"Text of page:\\n\", return_tensors=\"pt\")",
   "id": "8ed2baa1bd6fc293",
   "outputs": [],
   "execution_count": 55
  },
  {
   "metadata": {
    "ExecuteTime": {
     "end_time": "2024-06-29T10:03:52.719024Z",
     "start_time": "2024-06-29T10:03:41.829335Z"
    }
   },
   "cell_type": "code",
   "source": "predictions = model.generate(**inputs)",
   "id": "93cf2b52bd8b6d2a",
   "outputs": [],
   "execution_count": 56
  },
  {
   "metadata": {
    "ExecuteTime": {
     "end_time": "2024-06-29T10:03:52.723311Z",
     "start_time": "2024-06-29T10:03:52.720235Z"
    }
   },
   "cell_type": "code",
   "source": "print(processor.decode(predictions[0], skip_special_tokens=True))",
   "id": "19fc96bd57b88c25",
   "outputs": [
    {
     "name": "stdout",
     "output_type": "stream",
     "text": [
      "page displaying text of a method\n"
     ]
    }
   ],
   "execution_count": 57
  },
  {
   "metadata": {},
   "cell_type": "code",
   "outputs": [],
   "execution_count": null,
   "source": "",
   "id": "e7ea8a76bf13f4da"
  }
 ],
 "metadata": {
  "kernelspec": {
   "display_name": "Python 3",
   "language": "python",
   "name": "python3"
  },
  "language_info": {
   "codemirror_mode": {
    "name": "ipython",
    "version": 2
   },
   "file_extension": ".py",
   "mimetype": "text/x-python",
   "name": "python",
   "nbconvert_exporter": "python",
   "pygments_lexer": "ipython2",
   "version": "2.7.6"
  }
 },
 "nbformat": 4,
 "nbformat_minor": 5
}
