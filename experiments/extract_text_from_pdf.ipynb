{
 "cells": [
  {
   "cell_type": "code",
   "id": "initial_id",
   "metadata": {
    "collapsed": true,
    "ExecuteTime": {
     "end_time": "2024-06-21T20:59:16.453475Z",
     "start_time": "2024-06-21T20:59:16.143300Z"
    }
   },
   "source": [
    "from pathlib import Path\n",
    "\n",
    "from dataset.datasets_schema import Datasets\n",
    "\n",
    "datasets_path = Path(\"../dataset/datasets.yaml\")\n",
    "datasets: Datasets = Datasets.from_yaml(datasets_path)\n",
    "moodle_dataset = datasets[\"moodle\"]\n",
    "entries = moodle_dataset.document_storage.entries\n",
    "print(len(entries))"
   ],
   "outputs": [
    {
     "name": "stdout",
     "output_type": "stream",
     "text": [
      "822\n"
     ]
    }
   ],
   "execution_count": 2
  },
  {
   "metadata": {
    "ExecuteTime": {
     "end_time": "2024-06-21T21:03:44.691322Z",
     "start_time": "2024-06-21T21:01:47.743752Z"
    }
   },
   "cell_type": "code",
   "source": [
    "from tqdm.notebook import tqdm\n",
    "from pymupdf4llm import process_document, join_chunks\n",
    "\n",
    "filtered_entries = [entry for entry in entries.values() if\n",
    "                    entry.path and entry.path.exists() and entry.path.suffix == \".pdf\"]\n",
    "iterable_results = (process_document(entry.path) for entry in filtered_entries)\n",
    "\n",
    "texts = []\n",
    "\n",
    "for result in tqdm(iterable_results, total=len(filtered_entries)):\n",
    "    texts.append(join_chunks(result))"
   ],
   "id": "9acab75c9d133331",
   "outputs": [
    {
     "data": {
      "text/plain": [
       "  0%|          | 0/783 [00:00<?, ?it/s]"
      ],
      "application/vnd.jupyter.widget-view+json": {
       "version_major": 2,
       "version_minor": 0,
       "model_id": "4a6c5c251b9f4e759dec8b6825fbd012"
      }
     },
     "metadata": {},
     "output_type": "display_data"
    },
    {
     "ename": "KeyboardInterrupt",
     "evalue": "",
     "output_type": "error",
     "traceback": [
      "\u001B[0;31m---------------------------------------------------------------------------\u001B[0m",
      "\u001B[0;31mKeyboardInterrupt\u001B[0m                         Traceback (most recent call last)",
      "\u001B[0;32m/tmp/ipykernel_335122/3529152013.py\u001B[0m in \u001B[0;36m?\u001B[0;34m()\u001B[0m\n\u001B[1;32m      6\u001B[0m \u001B[0miterable_results\u001B[0m \u001B[0;34m=\u001B[0m \u001B[0;34m(\u001B[0m\u001B[0mprocess_document\u001B[0m\u001B[0;34m(\u001B[0m\u001B[0mentry\u001B[0m\u001B[0;34m.\u001B[0m\u001B[0mpath\u001B[0m\u001B[0;34m)\u001B[0m \u001B[0;32mfor\u001B[0m \u001B[0mentry\u001B[0m \u001B[0;32min\u001B[0m \u001B[0mfiltered_entries\u001B[0m\u001B[0;34m)\u001B[0m\u001B[0;34m\u001B[0m\u001B[0;34m\u001B[0m\u001B[0m\n\u001B[1;32m      7\u001B[0m \u001B[0;34m\u001B[0m\u001B[0m\n\u001B[1;32m      8\u001B[0m \u001B[0mtexts\u001B[0m \u001B[0;34m=\u001B[0m \u001B[0;34m[\u001B[0m\u001B[0;34m]\u001B[0m\u001B[0;34m\u001B[0m\u001B[0;34m\u001B[0m\u001B[0m\n\u001B[1;32m      9\u001B[0m \u001B[0;34m\u001B[0m\u001B[0m\n\u001B[0;32m---> 10\u001B[0;31m \u001B[0;32mfor\u001B[0m \u001B[0mresult\u001B[0m \u001B[0;32min\u001B[0m \u001B[0mtqdm\u001B[0m\u001B[0;34m(\u001B[0m\u001B[0miterable_results\u001B[0m\u001B[0;34m,\u001B[0m \u001B[0mtotal\u001B[0m\u001B[0;34m=\u001B[0m\u001B[0mlen\u001B[0m\u001B[0;34m(\u001B[0m\u001B[0mfiltered_entries\u001B[0m\u001B[0;34m)\u001B[0m\u001B[0;34m)\u001B[0m\u001B[0;34m:\u001B[0m\u001B[0;34m\u001B[0m\u001B[0;34m\u001B[0m\u001B[0m\n\u001B[0m\u001B[1;32m     11\u001B[0m     \u001B[0mtexts\u001B[0m\u001B[0;34m.\u001B[0m\u001B[0mappend\u001B[0m\u001B[0;34m(\u001B[0m\u001B[0mjoin_chunks\u001B[0m\u001B[0;34m(\u001B[0m\u001B[0mresult\u001B[0m\u001B[0;34m)\u001B[0m\u001B[0;34m)\u001B[0m\u001B[0;34m\u001B[0m\u001B[0;34m\u001B[0m\u001B[0m\n",
      "\u001B[0;32m~/.cache/pypoetry/virtualenvs/innohassle-search-experiments-3GmagOUg-py3.11/lib/python3.11/site-packages/tqdm/notebook.py\u001B[0m in \u001B[0;36m?\u001B[0;34m(self)\u001B[0m\n\u001B[1;32m    252\u001B[0m                 \u001B[0;32myield\u001B[0m \u001B[0mobj\u001B[0m\u001B[0;34m\u001B[0m\u001B[0;34m\u001B[0m\u001B[0m\n\u001B[1;32m    253\u001B[0m         \u001B[0;31m# NB: except ... [ as ...] breaks IPython async KeyboardInterrupt\u001B[0m\u001B[0;34m\u001B[0m\u001B[0;34m\u001B[0m\u001B[0m\n\u001B[1;32m    254\u001B[0m         \u001B[0;32mexcept\u001B[0m\u001B[0;34m:\u001B[0m  \u001B[0;31m# NOQA\u001B[0m\u001B[0;34m\u001B[0m\u001B[0;34m\u001B[0m\u001B[0m\n\u001B[1;32m    255\u001B[0m             \u001B[0mself\u001B[0m\u001B[0;34m.\u001B[0m\u001B[0mdisp\u001B[0m\u001B[0;34m(\u001B[0m\u001B[0mbar_style\u001B[0m\u001B[0;34m=\u001B[0m\u001B[0;34m'danger'\u001B[0m\u001B[0;34m)\u001B[0m\u001B[0;34m\u001B[0m\u001B[0;34m\u001B[0m\u001B[0m\n\u001B[0;32m--> 256\u001B[0;31m             \u001B[0;32mraise\u001B[0m\u001B[0;34m\u001B[0m\u001B[0;34m\u001B[0m\u001B[0m\n\u001B[0m\u001B[1;32m    257\u001B[0m         \u001B[0;31m# NB: don't `finally: close()`\u001B[0m\u001B[0;34m\u001B[0m\u001B[0;34m\u001B[0m\u001B[0m\n\u001B[1;32m    258\u001B[0m         \u001B[0;31m# since this could be a shared bar which the user will `reset()`\u001B[0m\u001B[0;34m\u001B[0m\u001B[0;34m\u001B[0m\u001B[0m\n",
      "\u001B[0;32m~/.cache/pypoetry/virtualenvs/innohassle-search-experiments-3GmagOUg-py3.11/lib/python3.11/site-packages/tqdm/std.py\u001B[0m in \u001B[0;36m?\u001B[0;34m(self)\u001B[0m\n\u001B[1;32m   1192\u001B[0m                         \u001B[0mlast_print_n\u001B[0m \u001B[0;34m=\u001B[0m \u001B[0mself\u001B[0m\u001B[0;34m.\u001B[0m\u001B[0mlast_print_n\u001B[0m\u001B[0;34m\u001B[0m\u001B[0;34m\u001B[0m\u001B[0m\n\u001B[1;32m   1193\u001B[0m                         \u001B[0mlast_print_t\u001B[0m \u001B[0;34m=\u001B[0m \u001B[0mself\u001B[0m\u001B[0;34m.\u001B[0m\u001B[0mlast_print_t\u001B[0m\u001B[0;34m\u001B[0m\u001B[0;34m\u001B[0m\u001B[0m\n\u001B[1;32m   1194\u001B[0m         \u001B[0;32mfinally\u001B[0m\u001B[0;34m:\u001B[0m\u001B[0;34m\u001B[0m\u001B[0;34m\u001B[0m\u001B[0m\n\u001B[1;32m   1195\u001B[0m             \u001B[0mself\u001B[0m\u001B[0;34m.\u001B[0m\u001B[0mn\u001B[0m \u001B[0;34m=\u001B[0m \u001B[0mn\u001B[0m\u001B[0;34m\u001B[0m\u001B[0;34m\u001B[0m\u001B[0m\n\u001B[0;32m-> 1196\u001B[0;31m             \u001B[0mself\u001B[0m\u001B[0;34m.\u001B[0m\u001B[0mclose\u001B[0m\u001B[0;34m(\u001B[0m\u001B[0;34m)\u001B[0m\u001B[0;34m\u001B[0m\u001B[0;34m\u001B[0m\u001B[0m\n\u001B[0m",
      "\u001B[0;32m/tmp/ipykernel_335122/3529152013.py\u001B[0m in \u001B[0;36m?\u001B[0;34m(.0)\u001B[0m\n\u001B[0;32m----> 6\u001B[0;31m \u001B[0;32mfrom\u001B[0m \u001B[0mtqdm\u001B[0m\u001B[0;34m.\u001B[0m\u001B[0mnotebook\u001B[0m \u001B[0;32mimport\u001B[0m \u001B[0mtqdm\u001B[0m\u001B[0;34m\u001B[0m\u001B[0;34m\u001B[0m\u001B[0m\n\u001B[0m",
      "\u001B[0;32m~/.cache/pypoetry/virtualenvs/innohassle-search-experiments-3GmagOUg-py3.11/lib/python3.11/site-packages/pymupdf4llm/to_markdown.py\u001B[0m in \u001B[0;36m?\u001B[0;34m(doc, pages, margins, markdown_writer, graphics_processor)\u001B[0m\n\u001B[1;32m    149\u001B[0m     \u001B[0mchunks\u001B[0m\u001B[0;34m:\u001B[0m \u001B[0mlist\u001B[0m\u001B[0;34m[\u001B[0m\u001B[0mChunkData\u001B[0m\u001B[0;34m]\u001B[0m \u001B[0;34m=\u001B[0m \u001B[0;34m[\u001B[0m\u001B[0;34m]\u001B[0m\u001B[0;34m\u001B[0m\u001B[0;34m\u001B[0m\u001B[0m\n\u001B[1;32m    150\u001B[0m     \u001B[0mtoc\u001B[0m \u001B[0;34m=\u001B[0m \u001B[0mpymupdf\u001B[0m\u001B[0;34m.\u001B[0m\u001B[0mutils\u001B[0m\u001B[0;34m.\u001B[0m\u001B[0mget_toc\u001B[0m\u001B[0;34m(\u001B[0m\u001B[0mdoc\u001B[0m\u001B[0;34m,\u001B[0m \u001B[0msimple\u001B[0m\u001B[0;34m=\u001B[0m\u001B[0;32mFalse\u001B[0m\u001B[0;34m)\u001B[0m\u001B[0;34m\u001B[0m\u001B[0;34m\u001B[0m\u001B[0m\n\u001B[1;32m    151\u001B[0m     \u001B[0mtextflags\u001B[0m \u001B[0;34m=\u001B[0m \u001B[0mpymupdf\u001B[0m\u001B[0;34m.\u001B[0m\u001B[0mTEXT_DEHYPHENATE\u001B[0m \u001B[0;34m|\u001B[0m \u001B[0mpymupdf\u001B[0m\u001B[0;34m.\u001B[0m\u001B[0mTEXT_MEDIABOX_CLIP\u001B[0m\u001B[0;34m\u001B[0m\u001B[0;34m\u001B[0m\u001B[0m\n\u001B[1;32m    152\u001B[0m     \u001B[0;32mfor\u001B[0m \u001B[0mpno\u001B[0m \u001B[0;32min\u001B[0m \u001B[0mpages\u001B[0m\u001B[0;34m:\u001B[0m\u001B[0;34m\u001B[0m\u001B[0;34m\u001B[0m\u001B[0m\n\u001B[0;32m--> 153\u001B[0;31m         page_output, table_elements, image_elements = get_page_output(\n\u001B[0m\u001B[1;32m    154\u001B[0m             \u001B[0mdoc\u001B[0m\u001B[0;34m,\u001B[0m \u001B[0mpno\u001B[0m\u001B[0;34m,\u001B[0m \u001B[0mmargins\u001B[0m\u001B[0;34m,\u001B[0m \u001B[0mtextflags\u001B[0m\u001B[0;34m\u001B[0m\u001B[0;34m\u001B[0m\u001B[0m\n\u001B[1;32m    155\u001B[0m         )\n\u001B[1;32m    156\u001B[0m         chunk: ChunkData = {\n",
      "\u001B[0;32m~/.cache/pypoetry/virtualenvs/innohassle-search-experiments-3GmagOUg-py3.11/lib/python3.11/site-packages/pymupdf4llm/to_markdown.py\u001B[0m in \u001B[0;36m?\u001B[0;34m(doc, pno, margins, textflags)\u001B[0m\n\u001B[1;32m    118\u001B[0m                     \u001B[0mrect\u001B[0m\u001B[0;34m=\u001B[0m\u001B[0mpymupdf\u001B[0m\u001B[0;34m.\u001B[0m\u001B[0mRect\u001B[0m\u001B[0;34m(\u001B[0m\u001B[0mt\u001B[0m\u001B[0;34m.\u001B[0m\u001B[0mbbox\u001B[0m\u001B[0;34m)\u001B[0m \u001B[0;34m|\u001B[0m \u001B[0mpymupdf\u001B[0m\u001B[0;34m.\u001B[0m\u001B[0mRect\u001B[0m\u001B[0;34m(\u001B[0m\u001B[0mt\u001B[0m\u001B[0;34m.\u001B[0m\u001B[0mheader\u001B[0m\u001B[0;34m.\u001B[0m\u001B[0mbbox\u001B[0m\u001B[0;34m)\u001B[0m\u001B[0;34m,\u001B[0m \u001B[0mtable\u001B[0m\u001B[0;34m=\u001B[0m\u001B[0mt\u001B[0m\u001B[0;34m\u001B[0m\u001B[0;34m\u001B[0m\u001B[0m\n\u001B[1;32m    119\u001B[0m                 )\n\u001B[1;32m    120\u001B[0m             )\n\u001B[1;32m    121\u001B[0m \u001B[0;34m\u001B[0m\u001B[0m\n\u001B[0;32m--> 122\u001B[0;31m         \u001B[0m_\u001B[0m \u001B[0;34m=\u001B[0m \u001B[0mgraphics_processor\u001B[0m\u001B[0;34m.\u001B[0m\u001B[0mfit\u001B[0m\u001B[0;34m(\u001B[0m\u001B[0mpage\u001B[0m\u001B[0;34m,\u001B[0m \u001B[0mtable_elements\u001B[0m\u001B[0;34m=\u001B[0m\u001B[0mtable_elements\u001B[0m\u001B[0;34m)\u001B[0m\u001B[0;34m\u001B[0m\u001B[0;34m\u001B[0m\u001B[0m\n\u001B[0m\u001B[1;32m    123\u001B[0m         \u001B[0mimage_elements\u001B[0m \u001B[0;34m=\u001B[0m \u001B[0m_\u001B[0m\u001B[0;34m[\u001B[0m\u001B[0;34m\"image_elements\"\u001B[0m\u001B[0;34m]\u001B[0m\u001B[0;34m\u001B[0m\u001B[0;34m\u001B[0m\u001B[0m\n\u001B[1;32m    124\u001B[0m \u001B[0;34m\u001B[0m\u001B[0m\n\u001B[1;32m    125\u001B[0m         \u001B[0;31m# Determine text column bboxes on page, avoiding tables and graphics\u001B[0m\u001B[0;34m\u001B[0m\u001B[0;34m\u001B[0m\u001B[0m\n",
      "\u001B[0;32m~/.cache/pypoetry/virtualenvs/innohassle-search-experiments-3GmagOUg-py3.11/lib/python3.11/site-packages/pymupdf4llm/helpers/process_graphics.py\u001B[0m in \u001B[0;36m?\u001B[0;34m(self, page, table_elements)\u001B[0m\n\u001B[1;32m     68\u001B[0m         \u001B[0mclusters\u001B[0m \u001B[0;34m=\u001B[0m \u001B[0mpage\u001B[0m\u001B[0;34m.\u001B[0m\u001B[0mcluster_drawings\u001B[0m\u001B[0;34m(\u001B[0m\u001B[0mdrawings\u001B[0m\u001B[0;34m=\u001B[0m\u001B[0mfiltered_drawings\u001B[0m\u001B[0;34m)\u001B[0m\u001B[0;34m\u001B[0m\u001B[0;34m\u001B[0m\u001B[0m\n\u001B[1;32m     69\u001B[0m \u001B[0;34m\u001B[0m\u001B[0m\n\u001B[1;32m     70\u001B[0m         \u001B[0mis_stroked\u001B[0m \u001B[0;34m=\u001B[0m \u001B[0mpartial\u001B[0m\u001B[0;34m(\u001B[0m\u001B[0mself\u001B[0m\u001B[0;34m.\u001B[0m\u001B[0mis_stroked_cluster\u001B[0m\u001B[0;34m,\u001B[0m \u001B[0mdrawings\u001B[0m\u001B[0;34m=\u001B[0m\u001B[0mfiltered_drawings\u001B[0m\u001B[0;34m)\u001B[0m\u001B[0;34m\u001B[0m\u001B[0;34m\u001B[0m\u001B[0m\n\u001B[1;32m     71\u001B[0m         \u001B[0mfiltered_clusters\u001B[0m \u001B[0;34m=\u001B[0m \u001B[0mfilter\u001B[0m\u001B[0;34m(\u001B[0m\u001B[0mis_stroked\u001B[0m\u001B[0;34m,\u001B[0m \u001B[0mclusters\u001B[0m\u001B[0;34m)\u001B[0m\u001B[0;34m\u001B[0m\u001B[0;34m\u001B[0m\u001B[0m\n\u001B[0;32m---> 72\u001B[0;31m         \u001B[0mfiltered_clusters\u001B[0m \u001B[0;34m=\u001B[0m \u001B[0mlist\u001B[0m\u001B[0;34m(\u001B[0m\u001B[0mfilter\u001B[0m\u001B[0;34m(\u001B[0m\u001B[0mself\u001B[0m\u001B[0;34m.\u001B[0m\u001B[0mhuge_enough_rect\u001B[0m\u001B[0;34m,\u001B[0m \u001B[0mfiltered_clusters\u001B[0m\u001B[0;34m)\u001B[0m\u001B[0;34m)\u001B[0m\u001B[0;34m\u001B[0m\u001B[0;34m\u001B[0m\u001B[0m\n\u001B[0m\u001B[1;32m     73\u001B[0m \u001B[0;34m\u001B[0m\u001B[0m\n\u001B[1;32m     74\u001B[0m         \u001B[0mwithin_clusters\u001B[0m \u001B[0;34m=\u001B[0m \u001B[0mpartial\u001B[0m\u001B[0;34m(\u001B[0m\u001B[0mis_in_rects\u001B[0m\u001B[0;34m,\u001B[0m \u001B[0mrect_list\u001B[0m\u001B[0;34m=\u001B[0m\u001B[0mfiltered_clusters\u001B[0m\u001B[0;34m)\u001B[0m\u001B[0;34m\u001B[0m\u001B[0;34m\u001B[0m\u001B[0m\n\u001B[1;32m     75\u001B[0m         filtered_drawings = list(\n",
      "\u001B[0;32m~/.cache/pypoetry/virtualenvs/innohassle-search-experiments-3GmagOUg-py3.11/lib/python3.11/site-packages/pymupdf4llm/helpers/process_graphics.py\u001B[0m in \u001B[0;36m?\u001B[0;34m(cluster, drawings)\u001B[0m\n\u001B[1;32m    187\u001B[0m     \u001B[0;34m@\u001B[0m\u001B[0mstaticmethod\u001B[0m\u001B[0;34m\u001B[0m\u001B[0;34m\u001B[0m\u001B[0m\n\u001B[1;32m    188\u001B[0m     \u001B[0;32mdef\u001B[0m \u001B[0mis_stroked_cluster\u001B[0m\u001B[0;34m(\u001B[0m\u001B[0mcluster\u001B[0m\u001B[0;34m:\u001B[0m \u001B[0mpymupdf\u001B[0m\u001B[0;34m.\u001B[0m\u001B[0mRect\u001B[0m\u001B[0;34m,\u001B[0m \u001B[0mdrawings\u001B[0m\u001B[0;34m:\u001B[0m \u001B[0mlist\u001B[0m\u001B[0;34m[\u001B[0m\u001B[0mdict\u001B[0m\u001B[0;34m]\u001B[0m\u001B[0;34m)\u001B[0m \u001B[0;34m->\u001B[0m \u001B[0mbool\u001B[0m\u001B[0;34m:\u001B[0m\u001B[0;34m\u001B[0m\u001B[0;34m\u001B[0m\u001B[0m\n\u001B[1;32m    189\u001B[0m         \u001B[0;32mfor\u001B[0m \u001B[0mp\u001B[0m \u001B[0;32min\u001B[0m \u001B[0mdrawings\u001B[0m\u001B[0;34m:\u001B[0m\u001B[0;34m\u001B[0m\u001B[0;34m\u001B[0m\u001B[0m\n\u001B[0;32m--> 190\u001B[0;31m             \u001B[0;32mif\u001B[0m \u001B[0mp\u001B[0m\u001B[0;34m[\u001B[0m\u001B[0;34m\"rect\"\u001B[0m\u001B[0;34m]\u001B[0m \u001B[0;32mnot\u001B[0m \u001B[0;32min\u001B[0m \u001B[0mcluster\u001B[0m\u001B[0;34m:\u001B[0m\u001B[0;34m\u001B[0m\u001B[0;34m\u001B[0m\u001B[0m\n\u001B[0m\u001B[1;32m    191\u001B[0m                 \u001B[0;32mcontinue\u001B[0m\u001B[0;34m\u001B[0m\u001B[0;34m\u001B[0m\u001B[0m\n\u001B[1;32m    192\u001B[0m             \u001B[0;32mif\u001B[0m \u001B[0mp\u001B[0m\u001B[0;34m[\u001B[0m\u001B[0;34m\"type\"\u001B[0m\u001B[0;34m]\u001B[0m \u001B[0;34m!=\u001B[0m \u001B[0;34m\"f\"\u001B[0m\u001B[0;34m:\u001B[0m\u001B[0;34m\u001B[0m\u001B[0;34m\u001B[0m\u001B[0m\n\u001B[1;32m    193\u001B[0m                 \u001B[0;32mreturn\u001B[0m \u001B[0;32mTrue\u001B[0m\u001B[0;34m\u001B[0m\u001B[0;34m\u001B[0m\u001B[0m\n",
      "\u001B[0;32m~/.cache/pypoetry/virtualenvs/innohassle-search-experiments-3GmagOUg-py3.11/lib64/python3.11/site-packages/pymupdf/__init__.py\u001B[0m in \u001B[0;36m?\u001B[0;34m(self, x)\u001B[0m\n\u001B[1;32m  10991\u001B[0m         \u001B[0;32mif\u001B[0m \u001B[0ml\u001B[0m \u001B[0;34m==\u001B[0m \u001B[0;36m4\u001B[0m\u001B[0;34m:\u001B[0m\u001B[0;34m\u001B[0m\u001B[0;34m\u001B[0m\u001B[0m\n\u001B[1;32m  10992\u001B[0m             \u001B[0mr\u001B[0m \u001B[0;34m=\u001B[0m \u001B[0mINFINITE_RECT\u001B[0m\u001B[0;34m(\u001B[0m\u001B[0;34m)\u001B[0m\u001B[0;34m\u001B[0m\u001B[0;34m\u001B[0m\u001B[0m\n\u001B[1;32m  10993\u001B[0m             \u001B[0;32mtry\u001B[0m\u001B[0;34m:\u001B[0m\u001B[0;34m\u001B[0m\u001B[0;34m\u001B[0m\u001B[0m\n\u001B[1;32m  10994\u001B[0m                 \u001B[0mr\u001B[0m \u001B[0;34m=\u001B[0m \u001B[0mRect\u001B[0m\u001B[0;34m(\u001B[0m\u001B[0mx\u001B[0m\u001B[0;34m)\u001B[0m\u001B[0;34m\u001B[0m\u001B[0;34m\u001B[0m\u001B[0m\n\u001B[0;32m> 10995\u001B[0;31m             \u001B[0;32mexcept\u001B[0m \u001B[0mException\u001B[0m\u001B[0;34m:\u001B[0m\u001B[0;34m\u001B[0m\u001B[0;34m\u001B[0m\u001B[0m\n\u001B[0m\u001B[1;32m  10996\u001B[0m                 \u001B[0;32mif\u001B[0m \u001B[0mg_exceptions_verbose\u001B[0m \u001B[0;34m>\u001B[0m \u001B[0;36m1\u001B[0m\u001B[0;34m:\u001B[0m    \u001B[0mexception_info\u001B[0m\u001B[0;34m(\u001B[0m\u001B[0;34m)\u001B[0m\u001B[0;34m\u001B[0m\u001B[0;34m\u001B[0m\u001B[0m\n\u001B[1;32m  10997\u001B[0m                 \u001B[0mr\u001B[0m \u001B[0;34m=\u001B[0m \u001B[0mQuad\u001B[0m\u001B[0;34m(\u001B[0m\u001B[0mx\u001B[0m\u001B[0;34m)\u001B[0m\u001B[0;34m.\u001B[0m\u001B[0mrect\u001B[0m\u001B[0;34m\u001B[0m\u001B[0;34m\u001B[0m\u001B[0m\n\u001B[1;32m  10998\u001B[0m             return (self.x0 <= r.x0 <= r.x1 <= self.x1 and\n",
      "\u001B[0;32m~/.cache/pypoetry/virtualenvs/innohassle-search-experiments-3GmagOUg-py3.11/lib64/python3.11/site-packages/pymupdf/__init__.py\u001B[0m in \u001B[0;36m?\u001B[0;34m(self, p0, p1, x0, y0, x1, y1, *args)\u001B[0m\n\u001B[1;32m  11022\u001B[0m \u001B[0;34m\u001B[0m\u001B[0m\n\u001B[1;32m  11023\u001B[0m         \u001B[0mExplicit\u001B[0m \u001B[0mkeyword\u001B[0m \u001B[0margs\u001B[0m \u001B[0mp0\u001B[0m\u001B[0;34m,\u001B[0m \u001B[0mp1\u001B[0m\u001B[0;34m,\u001B[0m \u001B[0mx0\u001B[0m\u001B[0;34m,\u001B[0m \u001B[0my0\u001B[0m\u001B[0;34m,\u001B[0m \u001B[0mx1\u001B[0m\u001B[0;34m,\u001B[0m \u001B[0my1\u001B[0m \u001B[0moverride\u001B[0m \u001B[0mearlier\u001B[0m \u001B[0msettings\u001B[0m\u001B[0;34m\u001B[0m\u001B[0;34m\u001B[0m\u001B[0m\n\u001B[1;32m  11024\u001B[0m         \u001B[0;32mif\u001B[0m \u001B[0;32mnot\u001B[0m \u001B[0;32mNone\u001B[0m\u001B[0;34m.\u001B[0m\u001B[0;34m\u001B[0m\u001B[0;34m\u001B[0m\u001B[0m\n\u001B[1;32m  11025\u001B[0m         \"\"\"\n\u001B[0;32m> 11026\u001B[0;31m         \u001B[0mx0\u001B[0m\u001B[0;34m,\u001B[0m \u001B[0my0\u001B[0m\u001B[0;34m,\u001B[0m \u001B[0mx1\u001B[0m\u001B[0;34m,\u001B[0m \u001B[0my1\u001B[0m \u001B[0;34m=\u001B[0m \u001B[0mutil_make_rect\u001B[0m\u001B[0;34m(\u001B[0m \u001B[0;34m*\u001B[0m\u001B[0margs\u001B[0m\u001B[0;34m,\u001B[0m \u001B[0mp0\u001B[0m\u001B[0;34m=\u001B[0m\u001B[0mp0\u001B[0m\u001B[0;34m,\u001B[0m \u001B[0mp1\u001B[0m\u001B[0;34m=\u001B[0m\u001B[0mp1\u001B[0m\u001B[0;34m,\u001B[0m \u001B[0mx0\u001B[0m\u001B[0;34m=\u001B[0m\u001B[0mx0\u001B[0m\u001B[0;34m,\u001B[0m \u001B[0my0\u001B[0m\u001B[0;34m=\u001B[0m\u001B[0my0\u001B[0m\u001B[0;34m,\u001B[0m \u001B[0mx1\u001B[0m\u001B[0;34m=\u001B[0m\u001B[0mx1\u001B[0m\u001B[0;34m,\u001B[0m \u001B[0my1\u001B[0m\u001B[0;34m=\u001B[0m\u001B[0my1\u001B[0m\u001B[0;34m)\u001B[0m\u001B[0;34m\u001B[0m\u001B[0;34m\u001B[0m\u001B[0m\n\u001B[0m\u001B[1;32m  11027\u001B[0m         \u001B[0mself\u001B[0m\u001B[0;34m.\u001B[0m\u001B[0mx0\u001B[0m \u001B[0;34m=\u001B[0m \u001B[0mfloat\u001B[0m\u001B[0;34m(\u001B[0m \u001B[0mx0\u001B[0m\u001B[0;34m)\u001B[0m\u001B[0;34m\u001B[0m\u001B[0;34m\u001B[0m\u001B[0m\n\u001B[1;32m  11028\u001B[0m         \u001B[0mself\u001B[0m\u001B[0;34m.\u001B[0m\u001B[0my0\u001B[0m \u001B[0;34m=\u001B[0m \u001B[0mfloat\u001B[0m\u001B[0;34m(\u001B[0m \u001B[0my0\u001B[0m\u001B[0;34m)\u001B[0m\u001B[0;34m\u001B[0m\u001B[0;34m\u001B[0m\u001B[0m\n\u001B[1;32m  11029\u001B[0m         \u001B[0mself\u001B[0m\u001B[0;34m.\u001B[0m\u001B[0mx1\u001B[0m \u001B[0;34m=\u001B[0m \u001B[0mfloat\u001B[0m\u001B[0;34m(\u001B[0m \u001B[0mx1\u001B[0m\u001B[0;34m)\u001B[0m\u001B[0;34m\u001B[0m\u001B[0;34m\u001B[0m\u001B[0m\n",
      "\u001B[0;31mKeyboardInterrupt\u001B[0m: "
     ]
    }
   ],
   "execution_count": 6
  },
  {
   "metadata": {
    "ExecuteTime": {
     "end_time": "2024-06-21T21:05:34.607557Z",
     "start_time": "2024-06-21T21:05:27.206469Z"
    }
   },
   "cell_type": "code",
   "source": [
    "# As it is a long process, lets get the first 10 entries\n",
    "texts = []\n",
    "for result in tqdm(map(process_document, [entry.path for entry in filtered_entries[:10]]), total=10):\n",
    "    texts.append(join_chunks(result))"
   ],
   "id": "37c841249e57b3c5",
   "outputs": [
    {
     "data": {
      "text/plain": [
       "  0%|          | 0/10 [00:00<?, ?it/s]"
      ],
      "application/vnd.jupyter.widget-view+json": {
       "version_major": 2,
       "version_minor": 0,
       "model_id": "fd9c37da2b934862acf5b554c0689bf8"
      }
     },
     "metadata": {},
     "output_type": "display_data"
    }
   ],
   "execution_count": 8
  },
  {
   "metadata": {
    "ExecuteTime": {
     "end_time": "2024-06-21T21:05:40.944681Z",
     "start_time": "2024-06-21T21:05:40.941645Z"
    }
   },
   "cell_type": "code",
   "source": "print(texts[0])",
   "id": "221697207da5cfe0",
   "outputs": [
    {
     "name": "stdout",
     "output_type": "stream",
     "text": [
      "<h1>Identifying Method</h1>\n",
      "\n",
      "-----\n",
      "\n",
      "<h2>Today:</h2>\n",
      "\n",
      "• Identifying LR Method;\n",
      "\n",
      "• Reference Management and Reading Log;\n",
      "\n",
      "• Method Section to Practice.\n",
      "\n",
      "-----\n",
      "\n",
      "<h2>Identifying LR Method</h2>\n",
      "\n",
      "• Search Strategy;\n",
      "\n",
      "• Data Preparation;\n",
      "\n",
      "• Screening.\n",
      "\n",
      "• See <a href='https://moodle.innopolis.university/course/view.php?id=1224'>Handout 1</a> .\n",
      "\n",
      "-----\n",
      "\n",
      "<h2>Writing up your LR Method</h2>\n",
      "\n",
      "• Structure (acc. to Handout 1): no subsections, two, or more separate\n",
      "subsections;\n",
      "\n",
      "• Order: Insignificant changes in the ordering are possible;\n",
      "\n",
      "• Elements and steps: extra elements and steps can be added;\n",
      "\n",
      "• Tables or figures with the literature flow are possible but not\n",
      "necessary.\n",
      "\n",
      "-----\n",
      "\n",
      "<h2>RL Method Section: Examples & Practice</h2>\n",
      "\n",
      "• Form groups of two;\n",
      "\n",
      "• Student 1 reads Example 1 and 1) Puts down the name of the method\n",
      "section; 2) Lists the steps described in this section;\n",
      "\n",
      "• Student 2 does the same with Example 2;\n",
      "\n",
      "• S1 and S2 share their results with each other.\n",
      "\n",
      "<a href='https://www.sciencedirect.com/science/article/pii/S2772390922000452?via%3Dihub'>•</a> <a href='https://www.sciencedirect.com/science/article/pii/S2772390922000452?via%3Dihub'> Example 1</a> ;\n",
      "\n",
      "<a href='https://www.sciencedirect.com/science/article/pii/S1755581722000402?via%3Dihub'>•</a> <a href='https://www.sciencedirect.com/science/article/pii/S1755581722000402?via%3Dihub'> Example 2</a> .\n",
      "\n",
      "-----\n",
      "\n",
      "<h2>Reference Managers</h2>\n",
      "\n",
      "<a href='https://www.mendeley.com/search/'>•</a> <a href='https://www.mendeley.com/search/'> Mendeley</a> ;\n",
      "\n",
      "<a href='https://www.zotero.org/'>•</a> <a href='https://www.zotero.org/'> Zotero</a> ;\n",
      "\n",
      "• Built-in solutions, such as <a href='https://ieee-collabratec.ieee.org/app/home'>Collabratec</a> in IEEE Xplore;\n",
      "\n",
      "• Paid solutions (e.g., <a href='https://endnote.com/'>EndNote</a> ).\n",
      "\n",
      "-----\n",
      "\n",
      "<h2>Reading Log</h2>\n",
      "\n",
      "• See <a href='https://moodle.innopolis.university/course/view.php?id=1224'>Handout 2</a> .\n",
      "\n",
      "-----\n",
      "\n",
      "<h2>Practice</h2>\n",
      "\n",
      "• Open <a href='https://moodle.innopolis.university/course/view.php?id=1224'>Handout 1</a> , page 2;\n",
      "\n",
      "• Start filling in the Method Documentation table for easier conversion\n",
      "into the text at a later stage.\n",
      "\n",
      "-----\n",
      "\n",
      "<h2>Overleaf LR Template</h2>\n",
      "\n",
      "• Use this <a href='https://moodle.innopolis.university/course/view.php?id=1224'>Overleaf template </a> for writing the RL.\n",
      "\n",
      "-----\n",
      "\n",
      "<h2>Homework (no submission)</h2>\n",
      "\n",
      "• Finish the Documentation table from <a href='https://moodle.innopolis.university/course/view.php?id=1224'>Handout 1</a> , page 2, by next\n",
      "class.\n",
      "\n",
      "-----\n",
      "\n",
      "<h2>TSA 2. Reading Log</h2>\n",
      "\n",
      "• Complete sources 1-5 according to Handout 2 (RL template);\n",
      "\n",
      "• Submit as <a href='https://moodle.innopolis.university/mod/assign/view.php?id=90102'>TSA 2</a> before Feb 2, 23:59.\n",
      "\n",
      "-----\n",
      "\n",
      "<h2>TSA 5. Method Section</h2>\n",
      "\n",
      "• Task: Complete a draft of your method section and add your RQ into\n",
      "the Introduction section.\n",
      "\n",
      "<a href='https://moodle.innopolis.university/mod/assign/view.php?id=90103'>•</a> <a href='https://moodle.innopolis.university/mod/assign/view.php?id=90103'> Submit</a> in the pdf downloaded from Overleaf by Feb 13, 23:59.\n",
      "\n",
      "-----\n",
      "\n",
      "<h2>Today:</h2>\n",
      "\n",
      "• Identifying LR Method;\n",
      "\n",
      "• Reference Management and Reading Log;\n",
      "\n",
      "• Method Section to Practice.\n"
     ]
    }
   ],
   "execution_count": 9
  },
  {
   "metadata": {},
   "cell_type": "code",
   "outputs": [],
   "execution_count": null,
   "source": "",
   "id": "cecb5d627fab4cc3"
  }
 ],
 "metadata": {
  "kernelspec": {
   "display_name": "Python 3",
   "language": "python",
   "name": "python3"
  },
  "language_info": {
   "codemirror_mode": {
    "name": "ipython",
    "version": 2
   },
   "file_extension": ".py",
   "mimetype": "text/x-python",
   "name": "python",
   "nbconvert_exporter": "python",
   "pygments_lexer": "ipython2",
   "version": "2.7.6"
  }
 },
 "nbformat": 4,
 "nbformat_minor": 5
}
